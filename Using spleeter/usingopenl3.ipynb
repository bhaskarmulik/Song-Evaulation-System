{
 "cells": [
  {
   "cell_type": "code",
   "execution_count": 13,
   "metadata": {},
   "outputs": [],
   "source": [
    "import openl3\n",
    "import soundfile as sf\n",
    "import numpy as np"
   ]
  },
  {
   "cell_type": "code",
   "execution_count": 14,
   "metadata": {},
   "outputs": [
    {
     "name": "stdout",
     "output_type": "stream",
     "text": [
      "75/75 [==============================] - 339s 5s/step\n",
      "19/19 [==============================] - 83s 4s/step\n"
     ]
    }
   ],
   "source": [
    "audio_sig_ogsong, sample_rate_ogsong = sf.read('/workspaces/codespaces-jupyter/wav/ogsong.wav')\n",
    "audio_sig_usersong, sample_rate_usersong = sf.read('/workspaces/codespaces-jupyter/wav/usersong.wav')\n",
    "\n",
    "ogsong_embedding, ts_og = openl3.get_audio_embedding(audio_sig_ogsong, sample_rate_ogsong, batch_size=32, embedding_size=512)\n",
    "usersong_embedding, ts_user = openl3.get_audio_embedding(audio_sig_usersong, sample_rate_usersong, batch_size=32, embedding_size=512)"
   ]
  },
  {
   "cell_type": "code",
   "execution_count": 16,
   "metadata": {},
   "outputs": [
    {
     "ename": "ValueError",
     "evalue": "operands could not be broadcast together with shapes (2391,1) (594,1) ",
     "output_type": "error",
     "traceback": [
      "\u001b[0;31m---------------------------------------------------------------------------\u001b[0m",
      "\u001b[0;31mValueError\u001b[0m                                Traceback (most recent call last)",
      "Cell \u001b[0;32mIn[16], line 41\u001b[0m\n\u001b[1;32m     38\u001b[0m \u001b[38;5;28;01mdef\u001b[39;00m \u001b[38;5;21mcosine_sim\u001b[39m(a, b):\n\u001b[1;32m     39\u001b[0m     \u001b[38;5;28;01mreturn\u001b[39;00m np\u001b[38;5;241m.\u001b[39mtensordot(a, b, axes\u001b[38;5;241m=\u001b[39m([\u001b[38;5;241m1\u001b[39m], [\u001b[38;5;241m1\u001b[39m])) \u001b[38;5;241m/\u001b[39m (np\u001b[38;5;241m.\u001b[39mlinalg\u001b[38;5;241m.\u001b[39mnorm(a, axis\u001b[38;5;241m=\u001b[39m\u001b[38;5;241m1\u001b[39m, keepdims\u001b[38;5;241m=\u001b[39m\u001b[38;5;28;01mTrue\u001b[39;00m) \u001b[38;5;241m*\u001b[39m np\u001b[38;5;241m.\u001b[39mlinalg\u001b[38;5;241m.\u001b[39mnorm(b, axis\u001b[38;5;241m=\u001b[39m\u001b[38;5;241m1\u001b[39m, keepdims\u001b[38;5;241m=\u001b[39m\u001b[38;5;28;01mTrue\u001b[39;00m))\n\u001b[0;32m---> 41\u001b[0m similarity_scores \u001b[38;5;241m=\u001b[39m \u001b[43mcosine_sim\u001b[49m\u001b[43m(\u001b[49m\u001b[43mogsong_embedding\u001b[49m\u001b[43m,\u001b[49m\u001b[43m \u001b[49m\u001b[43musersong_embedding\u001b[49m\u001b[43m)\u001b[49m\n\u001b[1;32m     42\u001b[0m \u001b[38;5;28mprint\u001b[39m(\u001b[38;5;124m\"\u001b[39m\u001b[38;5;124mSimilarity scores:\u001b[39m\u001b[38;5;124m\"\u001b[39m, similarity_scores)\n",
      "Cell \u001b[0;32mIn[16], line 39\u001b[0m, in \u001b[0;36mcosine_sim\u001b[0;34m(a, b)\u001b[0m\n\u001b[1;32m     38\u001b[0m \u001b[38;5;28;01mdef\u001b[39;00m \u001b[38;5;21mcosine_sim\u001b[39m(a, b):\n\u001b[0;32m---> 39\u001b[0m     \u001b[38;5;28;01mreturn\u001b[39;00m np\u001b[38;5;241m.\u001b[39mtensordot(a, b, axes\u001b[38;5;241m=\u001b[39m([\u001b[38;5;241m1\u001b[39m], [\u001b[38;5;241m1\u001b[39m])) \u001b[38;5;241m/\u001b[39m (\u001b[43mnp\u001b[49m\u001b[38;5;241;43m.\u001b[39;49m\u001b[43mlinalg\u001b[49m\u001b[38;5;241;43m.\u001b[39;49m\u001b[43mnorm\u001b[49m\u001b[43m(\u001b[49m\u001b[43ma\u001b[49m\u001b[43m,\u001b[49m\u001b[43m \u001b[49m\u001b[43maxis\u001b[49m\u001b[38;5;241;43m=\u001b[39;49m\u001b[38;5;241;43m1\u001b[39;49m\u001b[43m,\u001b[49m\u001b[43m \u001b[49m\u001b[43mkeepdims\u001b[49m\u001b[38;5;241;43m=\u001b[39;49m\u001b[38;5;28;43;01mTrue\u001b[39;49;00m\u001b[43m)\u001b[49m\u001b[43m \u001b[49m\u001b[38;5;241;43m*\u001b[39;49m\u001b[43m \u001b[49m\u001b[43mnp\u001b[49m\u001b[38;5;241;43m.\u001b[39;49m\u001b[43mlinalg\u001b[49m\u001b[38;5;241;43m.\u001b[39;49m\u001b[43mnorm\u001b[49m\u001b[43m(\u001b[49m\u001b[43mb\u001b[49m\u001b[43m,\u001b[49m\u001b[43m \u001b[49m\u001b[43maxis\u001b[49m\u001b[38;5;241;43m=\u001b[39;49m\u001b[38;5;241;43m1\u001b[39;49m\u001b[43m,\u001b[49m\u001b[43m \u001b[49m\u001b[43mkeepdims\u001b[49m\u001b[38;5;241;43m=\u001b[39;49m\u001b[38;5;28;43;01mTrue\u001b[39;49;00m\u001b[43m)\u001b[49m)\n",
      "\u001b[0;31mValueError\u001b[0m: operands could not be broadcast together with shapes (2391,1) (594,1) "
     ]
    }
   ],
   "source": [
    "\n",
    "# def reshape_embeddings(embeddings):\n",
    "#     \"\"\"\n",
    "#     Reshapes a list of embeddings into a consistent NumPy array.\n",
    "\n",
    "#     Args:\n",
    "#         embeddings (list): A list of embeddings, where each embedding can be a list, tuple, or NumPy array.\n",
    "\n",
    "#     Returns:\n",
    "#         numpy.ndarray: A 2D NumPy array with shape (num_embeddings, max_embedding_dim).\n",
    "#     \"\"\"\n",
    "#     # Initialize an empty list to store reshaped embeddings\n",
    "#     reshaped_embeddings = []\n",
    "\n",
    "#     # Iterate over each embedding\n",
    "#     for embedding in embeddings:\n",
    "#         # Convert the embedding to a 1D NumPy array\n",
    "#         embedding_array = np.array(embedding, dtype=object).flatten()\n",
    "\n",
    "#         # Append the reshaped embedding to the list\n",
    "#         reshaped_embeddings.append(embedding_array)\n",
    "\n",
    "#     # Convert the list of reshaped embeddings to a 2D NumPy array\n",
    "#     reshaped_embeddings_array = np.array(reshaped_embeddings)\n",
    "\n",
    "#     # Get the maximum embedding dimension from the reshaped embeddings\n",
    "#     max_embedding_dim = reshaped_embeddings_array.max(axis=1).max()\n",
    "\n",
    "#     # Reshape the embeddings to have the maximum embedding dimension\n",
    "#     # by padding with zeros if necessary\n",
    "#     reshaped_embeddings_array = np.array([np.pad(embedding, (0, max_embedding_dim - len(embedding)), mode='constant')\n",
    "#                                           for embedding in reshaped_embeddings_array])\n",
    "\n",
    "#     return reshaped_embeddings_array\n",
    "\n",
    "# ogsong_embedding_corrected = reshape_embeddings(ogsong_embedding)\n",
    "# usersong_embedding_corrected = reshape_embeddings(usersong_embedding)\n",
    "\n",
    "def cosine_sim(a, b):\n",
    "    return np.tensordot(a, b, axes=([1], [1])) / (np.linalg.norm(a, axis=1, keepdims=True) * np.linalg.norm(b, axis=1, keepdims=True))\n",
    "\n",
    "similarity_scores = cosine_sim(ogsong_embedding, usersong_embedding)\n",
    "print(\"Similarity scores:\", similarity_scores)"
   ]
  },
  {
   "cell_type": "code",
   "execution_count": null,
   "metadata": {},
   "outputs": [],
   "source": []
  }
 ],
 "metadata": {
  "kernelspec": {
   "display_name": "Python 3",
   "language": "python",
   "name": "python3"
  },
  "language_info": {
   "codemirror_mode": {
    "name": "ipython",
    "version": 3
   },
   "file_extension": ".py",
   "mimetype": "text/x-python",
   "name": "python",
   "nbconvert_exporter": "python",
   "pygments_lexer": "ipython3",
   "version": "3.10.13"
  }
 },
 "nbformat": 4,
 "nbformat_minor": 2
}
