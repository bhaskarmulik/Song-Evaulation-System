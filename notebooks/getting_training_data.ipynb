{
 "cells": [
  {
   "cell_type": "code",
   "execution_count": 1,
   "metadata": {},
   "outputs": [
    {
     "name": "stderr",
     "output_type": "stream",
     "text": [
      "2024-03-19 19:41:21.815399: W tensorflow/stream_executor/platform/default/dso_loader.cc:64] Could not load dynamic library 'libcudart.so.11.0'; dlerror: libcudart.so.11.0: cannot open shared object file: No such file or directory\n",
      "2024-03-19 19:41:21.815432: I tensorflow/stream_executor/cuda/cudart_stub.cc:29] Ignore above cudart dlerror if you do not have a GPU set up on your machine.\n"
     ]
    }
   ],
   "source": [
    "#Importing libraries\n",
    "import librosa\n",
    "import tensorflow as tf\n",
    "import tensorflow.keras as keras\n",
    "from spleeter.separator import Separator\n",
    "import IPython.display as ipd\n",
    "import pandas as pd\n",
    "import numpy as np\n",
    "import matplotlib.pylab as plb\n",
    "import matplotlib.pyplot as plt\n",
    "import os\n",
    "import soundfile as sf"
   ]
  },
  {
   "cell_type": "markdown",
   "metadata": {},
   "source": [
    "1. First, we load the .mp3 files and convert them to .wav using soundfile library.\n",
    "2. We then extract the vocals for each song using spleeter library.\n",
    "3. We then train a model with convolutional neural networks to extract the vocals from the songs.\n",
    "4. We then test the model to see if it really extracts the vocals.\n",
    "5. This method will only be useful if we have multiple songs to extract the vocals from, as it is not efficient to train a model for a single song.\n",
    "6. We will use the model to extract the vocals from the test songs and then we will compare the results with the spleeter library."
   ]
  },
  {
   "cell_type": "code",
   "execution_count": 2,
   "metadata": {},
   "outputs": [],
   "source": [
    "#Now we first convert these mp3 files to wav files\n",
    "i=0\n",
    "signals_array={}\n",
    "for music_files in os.listdir('/workspaces/codespaces-jupyter/mp3 files'):\n",
    "    signals,sr = librosa.load(os.path.join('/workspaces/codespaces-jupyter/mp3 files', music_files))\n",
    "    music_files = music_files.split('.')[0]\n",
    "    sf.write(f'/workspaces/codespaces-jupyter/wav files/{music_files}.wav', signals, sr, )\n",
    "    signals_array[music_files] = signals"
   ]
  },
  {
   "cell_type": "markdown",
   "metadata": {},
   "source": [
    "**We found out that the spleeter api isnt able to separate the vocals from the songs properly**"
   ]
  },
  {
   "cell_type": "markdown",
   "metadata": {},
   "source": [
    "So the new way is as follows:\n",
    "* First we will procure the database from MUDB and other databases\n",
    "* Make a neural network with the following layers:\n",
    "    * Make 2 convolutional layers\n",
    "    * Make 3 dense neural layers\n",
    "    *Compile the model, using 'Adam' optimiser"
   ]
  },
  {
   "cell_type": "code",
   "execution_count": null,
   "metadata": {},
   "outputs": [],
   "source": [
    "class NeuralNetwork():\n",
    "\n",
    "    def vocalsmodel(self):\n",
    "        self.model = keras.Sequential([\n",
    "            keras.layers.Flatten(input_shape=(220500,1)),\n",
    "            keras.layers.conv1D(64, 3, activation='relu'),\n",
    "            keras.layers.MaxPooling1D(2),\n",
    "            keras.layers.conv1D(64, 3, activation='relu'),\n",
    "            keras.layers.MaxPooling1D(2),\n",
    "            keras.layers.Dense(128, activation='relu'),\n",
    "            keras.layers.Dense(128, activation='relu'),\n",
    "            keras.layers.Dense(1, activation='sigmoid')\n",
    "        ])\n",
    "        return self.model\n",
    "    \n",
    "    "
   ]
  }
 ],
 "metadata": {
  "kernelspec": {
   "display_name": "Python 3",
   "language": "python",
   "name": "python3"
  },
  "language_info": {
   "codemirror_mode": {
    "name": "ipython",
    "version": 3
   },
   "file_extension": ".py",
   "mimetype": "text/x-python",
   "name": "python",
   "nbconvert_exporter": "python",
   "pygments_lexer": "ipython3",
   "version": "3.10.13"
  }
 },
 "nbformat": 4,
 "nbformat_minor": 2
}
